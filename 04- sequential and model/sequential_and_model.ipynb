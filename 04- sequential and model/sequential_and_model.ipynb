{
 "cells": [
  {
   "cell_type": "markdown",
   "metadata": {},
   "source": [
    "# Sequential Model:\n",
    "- A linear stack of layers where data flows from one layer to the next in a straightforward, sequential manner.\n",
    "- Simple to implement using the add() method to add layers one after another."
   ]
  },
  {
   "cell_type": "markdown",
   "metadata": {},
   "source": [
    "## Advantages:\n",
    "- Simplicity: Easy to understand and use, making it suitable for beginners.\n",
    "- Readability: The model architecture is straightforward, making it easy to visualize and interpret.\n",
    "- Less prone to errors in architecture design.\n",
    "\n",
    "## Disadvantages:\n",
    "- Limited Flexibility: Only supports models that can be built by stacking layers linearly.\n",
    "- Cannot accommodate models with multiple inputs/outputs, shared layers, or branching.\n",
    "\n",
    "## Use Cases:\n",
    "- Simple, linear problems.\n",
    "- When the network has a single input and output.\n",
    "- Suitable for beginners or when rapid prototyping is needed.\n",
    "\n",
    "## Examples:\n",
    "- Simple image classification.\n",
    "- Basic text classification.\n",
    "- Time series prediction with a single feature.\n",
    "\n",
    "## Best Use Cases:\n",
    "- Simple feedforward neural networks.\n",
    "- Convolutional neural networks (CNNs) for basic image classification tasks like MNIST digit classification.\n",
    "- Simple recurrent neural networks (RNNs) for sequence data, such as text classification or sentiment analysis.\n",
    "\n",
    "## Popularity:\n",
    "- The Sequential model is more popular among beginners and for simple tasks due to its simplicity and ease of use."
   ]
  },
  {
   "cell_type": "markdown",
   "metadata": {},
   "source": [
    "## Example Code:"
   ]
  },
  {
   "cell_type": "code",
   "execution_count": null,
   "metadata": {},
   "outputs": [],
   "source": [
    "from tensorflow.keras.models import Sequential\n",
    "from tensorflow.keras.layers import Dense\n",
    "\n",
    "# Create a Sequential model\n",
    "model = Sequential()\n",
    "\n",
    "# Add layers to the model\n",
    "model.add(Dense(units=64, activation='relu', input_shape=(3,)))\n",
    "model.add(Dense(units=32, activation='relu'))\n",
    "model.add(Dense(units=1, activation='sigmoid'))\n",
    "\n",
    "model.summary()\n",
    "\n",
    "# Compile the model\n",
    "model.compile(optimizer='adam' ,loss='binary_crossentropy' ,metrics=['accuracy'])"
   ]
  },
  {
   "cell_type": "markdown",
   "metadata": {},
   "source": [
    "# Functional Model:\n",
    "- Allows for creating complex, non-linear topologies of layers, including multiple inputs/outputs and layer sharing.\n",
    "- More flexible and can handle any computational graph, providing more control over the model architecture."
   ]
  },
  {
   "cell_type": "markdown",
   "metadata": {},
   "source": [
    "## Advantages:\n",
    "- Flexibility: Supports complex architectures, including those with multiple inputs/outputs, layer sharing, and branching.\n",
    "- Powerful: Can handle any computational graph, providing more control over the model architecture.\n",
    "\n",
    "## Disadvantages:\n",
    "- Complexity: More complex and harder to understand, especially for beginners.\n",
    "- Readability: The model definition can become less readable for very complex architectures.\n",
    "- Increased potential for errors in architecture design.\n",
    "\n",
    "## Use Cases:\n",
    "- Complex, non-linear problems.\n",
    "- When multiple inputs or outputs are required.\n",
    "- When layer sharing or branching is necessary.\n",
    "\n",
    "## Examples:\n",
    "- Multi-modal learning (combining text and image inputs).\n",
    "- Multi-task learning.\n",
    "- Implementing complex architectures like Inception or ResNet.\n",
    "\n",
    "## Best Use Cases:\n",
    "- Multi-task learning: Models that predict both the category and bounding box of an object in an image.\n",
    "- Custom architectures: Implementing advanced models like Inception, ResNet, or models with attention mechanisms.\n",
    "- Multi-modal inputs: Models that take both images and text as inputs to make a prediction.\n",
    "\n",
    "## Popularity:\n",
    "- The Functional API is preferred by experienced practitioners and researchers for building complex, state-of-the-art models due to its flexibility and capability to handle intricate model designs."
   ]
  },
  {
   "cell_type": "markdown",
   "metadata": {},
   "source": [
    "## Example Code:"
   ]
  },
  {
   "cell_type": "code",
   "execution_count": null,
   "metadata": {},
   "outputs": [],
   "source": [
    "from tensorflow.keras.models import Model\n",
    "from tensorflow.keras.layers import Input, Dense\n",
    "\n",
    "# Define the input layer\n",
    "inputs = Input(shape=(3,))\n",
    "\n",
    "# Add hidden layers\n",
    "h1 = Dense(units=64, activation='relu')(inputs)\n",
    "h2 = Dense(units=32, activation='relu')(h1)\n",
    "\n",
    "# Define the output layer\n",
    "outputs = Dense(units=10, activation='sigmoid')(h2)\n",
    "\n",
    "# Create the model\n",
    "model = Model(inputs=inputs, outputs=outputs)\n",
    "\n",
    "model.summary()\n",
    "\n",
    "# Compile the model\n",
    "model.compile(optimizer='adam', loss='binary_crossentropy', metrics=['accuracy'])\n"
   ]
  }
 ],
 "metadata": {
  "kernelspec": {
   "display_name": "base",
   "language": "python",
   "name": "python3"
  },
  "language_info": {
   "name": "python",
   "version": "3.11.9"
  }
 },
 "nbformat": 4,
 "nbformat_minor": 2
}
